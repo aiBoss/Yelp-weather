{
 "cells": [
  {
   "cell_type": "code",
   "execution_count": 6,
   "metadata": {},
   "outputs": [
    {
     "name": "stdout",
     "output_type": "stream",
     "text": [
      "end\n"
     ]
    }
   ],
   "source": [
    "import pandas as pd\n",
    "outputFilePath = \"/Users/vcroopana/Downloads/Spring2020/BigData/Proj1_No_SQL/yelp_dataset/business/\"\n",
    "df = pd.read_csv(outputFilePath+'user_category'+\".csv\")\n",
    "print('end')"
   ]
  },
  {
   "cell_type": "code",
   "execution_count": 14,
   "metadata": {},
   "outputs": [],
   "source": [
    "import sklearn.preprocessing as pp\n",
    "from scipy.sparse import csr_matrix \n",
    "import numpy as np\n",
    "import scipy.linalg.blas\n",
    "from sklearn.metrics.pairwise import cosine_similarity\n",
    "\n",
    "def cosine_similarities(mat, userInd):\n",
    "\n",
    "    row_normed_mat = pp.normalize(csr_matrix(mat), axis=1) # 1 => normalizes each row, doing this for cosine similarity\n",
    "\n",
    "    maxInd =0\n",
    "    #val = row_normed_mat.getrow(i) * row_normed_mat.T : gives business-business similarity values\n",
    "    #val = scipy.linalg.blas.sgemm(alpha=1.0, a= row_normed_mat.getrow(userInd).toarray(), b= row_normed_mat.toarray(), trans_b=True)\n",
    "    \n",
    "    val = cosine_similarity(row_normed_mat.getrow(userInd), row_normed_mat)\n",
    "    maxInd = np.argsort(val.flatten())[-2]\n",
    "    return maxInd\n",
    "    \n",
    "def getMostSimilarUser(df, key, keyType ):\n",
    "    user_id_series = df['user_id']  \n",
    "    vals = df.drop(['user_id'], axis = 1).to_numpy(dtype= 'float32')\n",
    "    if keyType == 'index':\n",
    "        userId = user_id_series[key]\n",
    "        userInd = key\n",
    "    else:\n",
    "        userId = key\n",
    "        userInd = user_id_series[user_id_series == key].index.tolist()\n",
    "        if len(my_list) == 0:\n",
    "            return 'user not found in database'\n",
    "        else:\n",
    "            userInd = userInd[0]\n",
    "            print(userInd)\n",
    "    \n",
    "    cosineSimIndex = cosine_similarities(vals, userInd)\n",
    "    cosineSimUserId = user_id_series[cosineSimIndex]\n",
    "    print(\"input user index: \"+ str(userInd) +\", user_id: \"+ userId)\n",
    "    print(\"most similar user index: \" + str( cosineSimIndex) +\", user_id: \"+cosineSimUserId)"
   ]
  },
  {
   "cell_type": "code",
   "execution_count": 22,
   "metadata": {},
   "outputs": [
    {
     "name": "stdout",
     "output_type": "stream",
     "text": [
      "started\n",
      "input user index: 100, user_id: oAOE4UAC5ZbAjEGBEMCb4g\n",
      "most similar user index: 530273, user_id: N2fU8K-6YSlGoJVE_Z1UYg\n"
     ]
    }
   ],
   "source": [
    "getMostSimilarUser(df, 100, 'index')"
   ]
  },
  {
   "cell_type": "code",
   "execution_count": 23,
   "metadata": {},
   "outputs": [
    {
     "name": "stdout",
     "output_type": "stream",
     "text": [
      "Extracted Df from DB\n",
      "started\n",
      "input user index: 100, user_id: tQqCwxLgYOrBgBf4CFZV7A\n",
      "most similar user index: 236, user_id: S6boRo4sQ1onCOpxhWkobw\n"
     ]
    }
   ],
   "source": [
    "#retrieve data from Cassandra DB:\n",
    "from cassandra.cluster import Cluster\n",
    "import pandas as pd\n",
    "\n",
    "if __name__ == \"__main__\":\n",
    "    cluster = Cluster(['127.0.0.1'], port = 9042)\n",
    "    keyspace = 'yelp_weather_data'\n",
    "    userkey = 100 # userid or index\n",
    "    keytype = 'index' # index or value\n",
    "    session = cluster.connect(keyspace, wait_for_all_pools=True) #json - name of keyspace\n",
    "    query = \"SELECT * from user_category\"\n",
    "    df = pd.DataFrame(list(session.execute(query)))\n",
    "    print('Extracted Df from DB')\n",
    "    \n",
    "    getMostSimilarUser(df, userkey, keytype)\n",
    "    "
   ]
  },
  {
   "cell_type": "code",
   "execution_count": null,
   "metadata": {},
   "outputs": [],
   "source": []
  }
 ],
 "metadata": {
  "kernelspec": {
   "display_name": "Python 3",
   "language": "python",
   "name": "python3"
  },
  "language_info": {
   "codemirror_mode": {
    "name": "ipython",
    "version": 3
   },
   "file_extension": ".py",
   "mimetype": "text/x-python",
   "name": "python",
   "nbconvert_exporter": "python",
   "pygments_lexer": "ipython3",
   "version": "3.7.3"
  }
 },
 "nbformat": 4,
 "nbformat_minor": 4
}
