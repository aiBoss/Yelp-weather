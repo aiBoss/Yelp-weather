{
 "cells": [
  {
   "cell_type": "code",
   "execution_count": 1,
   "metadata": {},
   "outputs": [
    {
     "name": "stdout",
     "output_type": "stream",
     "text": [
      "end\n"
     ]
    }
   ],
   "source": [
    "import pandas as pd\n",
    "outputFilePath = \"/Users/vcroopana/Downloads/Spring2020/BigData/Proj1_No_SQL/yelp_dataset/business/\"\n",
    "df = pd.read_csv(outputFilePath+'user_category'+\".csv\")\n",
    "print('end')"
   ]
  },
  {
   "cell_type": "markdown",
   "metadata": {},
   "source": [
    "medium qn 2 : find the compliment count for a user review\n",
    "\n",
    "script to insert table to db"
   ]
  },
  {
   "cell_type": "code",
   "execution_count": 8,
   "metadata": {},
   "outputs": [],
   "source": [
    "import pandas as pd\n",
    "\n",
    "def extractDfFromFile(nFiles, filePrefix, headerFlag):\n",
    "    df = pd.DataFrame()\n",
    "    for i in range(1,nFiles+1): # loops from 1 to nFiles\n",
    "        if headerFlag == 0:\n",
    "            entries = pd.read_csv(filePrefix+str(i)+'.txt', sep = '@', header = None)\n",
    "        else:\n",
    "            entries = pd.read_csv(filePrefix+str(i)+'.txt', sep = '@')\n",
    "        df = df.append(pd.DataFrame(entries))\n",
    "    return df"
   ]
  },
  {
   "cell_type": "code",
   "execution_count": 22,
   "metadata": {},
   "outputs": [
    {
     "name": "stdout",
     "output_type": "stream",
     "text": [
      "end\n"
     ]
    }
   ],
   "source": [
    "filePath = '/Users/vcroopana/Downloads/Spring2020/BigData/Proj1_No_SQL/yelp_dataset/'\n",
    "filePrefix = filePath+'tips_'\n",
    "tipsDf = extractDfFromFile(13, filePrefix, 1)\n",
    "\n",
    "#aggregate compliment count\n",
    "groupedTipsDf = tipsDf.groupby(['user_id']).sum().reset_index()\n",
    "print('end')"
   ]
  },
  {
   "cell_type": "code",
   "execution_count": null,
   "metadata": {},
   "outputs": [],
   "source": [
    "from cassandra.cluster import Cluster\n",
    "import pandas as pd\n",
    "\n",
    "if __name__ == \"__main__\":\n",
    "    cluster = Cluster(['127.0.0.1'], port = 9042)\n",
    "    session = cluster.connect('yelp_weather_data',wait_for_all_pools=True) #json - name of keyspace\n",
    "    session.execute('USE yelp_weather_data')\n",
    "\n",
    "    query = \"INSERT INTO user_tip_comp_count(userid , complimentcount) VALUES (?,?)\"\n",
    "    prepared = session.prepare(query)\n",
    "\n",
    "    for index, item in groupedTipsDf.iterrows():\n",
    "        print(index)\n",
    "        #print(item)\n",
    "        session.execute(prepared, (item['user_id'],int(item['compliment_count'])))\n",
    "    \n",
    "#     rows = session.execute('SELECT * FROM checkin')\n",
    "#     for row in rows:\n",
    "#         #print(row)\n",
    "#         print(\"INSERT INTO checkin(businessid,dates) VALUES (\",\"'\"+row.businessid+\"'\", \",'\"+row.dates+\"'\",\");\")\n",
    "\n"
   ]
  },
  {
   "cell_type": "markdown",
   "metadata": {},
   "source": [
    "Script to insert User_recommendation table in db\n",
    "\n",
    "Steps:\n",
    "\n",
    "1. For a user find max rated category\n",
    "\n",
    "2. Find max correlated category of this category\n",
    "\n",
    "3. Return the user with highest rating in the above category"
   ]
  },
  {
   "cell_type": "code",
   "execution_count": null,
   "metadata": {},
   "outputs": [],
   "source": [
    "import pandas as pd\n",
    "outputFilePath = \"/Users/vcroopana/Downloads/Spring2020/BigData/Proj1_No_SQL/yelp_dataset/business/\"\n",
    "df = pd.read_csv(outputFilePath+'user_category'+\".csv\")\n",
    "print('end')\n",
    "vals = df.drop(['user_id'], axis = 1)"
   ]
  },
  {
   "cell_type": "code",
   "execution_count": 24,
   "metadata": {},
   "outputs": [],
   "source": [
    "cat_corrs = df.corr(method='pearson')\n",
    "print('end')"
   ]
  },
  {
   "cell_type": "code",
   "execution_count": 34,
   "metadata": {},
   "outputs": [],
   "source": [
    "max_rating_category_all = vals.idxmax(axis=1)\n",
    "df['max_user_category'] = max_rating_category_all "
   ]
  },
  {
   "cell_type": "code",
   "execution_count": 93,
   "metadata": {},
   "outputs": [
    {
     "name": "stdout",
     "output_type": "stream",
     "text": [
      "(32, 33)\n",
      "0            Transportation\n",
      "1          Health & Medical\n",
      "2                      Bars\n",
      "3                      Bars\n",
      "4          Health & Medical\n",
      "                 ...       \n",
      "1637133                Bars\n",
      "1637134                Bars\n",
      "1637135                Bars\n",
      "1637136                Bars\n",
      "1637137                Bars\n",
      "Name: max_corr_category, Length: 1637138, dtype: object\n"
     ]
    }
   ],
   "source": [
    "import numpy as np\n",
    "np.fill_diagonal(cat_corrs.values, 0)\n",
    "\n",
    "# because we dont want the max correlated category of a given category to be miscellaneous\n",
    "cat_corrs_no_mis = cat_corrs.drop(index=['Miscelleanous']) #drops last row\n",
    "print(cat_corrs_no_mis.shape)\n",
    "# cat_corrs_no_mis = cat_corrs_no_mis.drop(columns=['Miscelleanous'])\n",
    "# print(cat_corrs_no_mis.shape) \n",
    "\n",
    "max_corr_categories_series = cat_corrs_no_mis.idxmax()\n",
    "df['max_corr_category'] = df['max_user_category'].map(max_corr_categories_series)\n",
    "\n",
    "#print(df['max_corr_category'])"
   ]
  },
  {
   "cell_type": "code",
   "execution_count": null,
   "metadata": {},
   "outputs": [],
   "source": [
    "user_id_series = df['user_id']  \n",
    "\n",
    "category_max_user_index = vals.idxmax(axis = 0)  # keys : 0 to 1637138..\n",
    "category_2nd_max_user_index = vals[ vals.apply(lambda x: (x!=max(x)))].idxmax(axis = 0)\n",
    "#print(category_max_user_index)\n",
    "\n",
    "category_max_userid_map = category_max_user_index.map(user_id_series)  #keys actual user ids\n",
    "category_2nd_max_userid_map = category_2nd_max_user_index.map(user_id_series)\n",
    "\n",
    "df['max_corr_user'] = df['max_corr_category'].map(category_max_userid_map)\n",
    "second_max_corr_user = df['max_corr_category'].map(category_2nd_max_userid_map)\n",
    "df['second_max_corr_user'] = second_max_corr_user\n",
    "\n",
    "df['max_corr_user'] = df.apply(lambda x: x['second_max_corr_user'] \n",
    "                               if x['max_corr_user'] == x['user_id'] else x['max_corr_user'], axis =1)\n",
    "#print(df.head())"
   ]
  },
  {
   "cell_type": "code",
   "execution_count": 115,
   "metadata": {},
   "outputs": [
    {
     "name": "stdout",
     "output_type": "stream",
     "text": [
      "end\n"
     ]
    }
   ],
   "source": [
    "outputFilePath = \"/Users/vcroopana/Downloads/Spring2020/BigData/Proj1_No_SQL/yelp_dataset/business/\"\n",
    "df.to_csv(outputFilePath+'user_category_user.csv', index=False)\n",
    "print('end')"
   ]
  },
  {
   "cell_type": "code",
   "execution_count": null,
   "metadata": {},
   "outputs": [],
   "source": [
    "from cassandra.cluster import Cluster\n",
    "import pandas as pd\n",
    "\n",
    "if __name__ == \"__main__\":\n",
    "    cluster = Cluster(['127.0.0.1'], port = 9042)\n",
    "    session = cluster.connect('yelp_weather_data',wait_for_all_pools=True) #json - name of keyspace\n",
    "    session.execute('USE yelp_weather_data')\n",
    "\n",
    "    query = \"INSERT INTO user_recommendation(user_id , max_corr_category, max_corr_user ) VALUES (?,?,?)\"\n",
    "    prepared = session.prepare(query)\n",
    "\n",
    "    for index, item in df.iterrows():\n",
    "        print(index)\n",
    "        print( str(item['user_id'])+ str(item['max_corr_category']) + str(item['max_corr_user']))\n",
    "        session.execute(prepared, ( str(item['user_id']), str(item['max_corr_category']), str(item['max_corr_user'])))\n",
    "    "
   ]
  },
  {
   "cell_type": "code",
   "execution_count": null,
   "metadata": {},
   "outputs": [],
   "source": [
    "extractedDf = pd.read_csv(outputFilePath+'user_category_user.csv')\n",
    "print(extractedDf.head())"
   ]
  },
  {
   "cell_type": "code",
   "execution_count": 2,
   "metadata": {},
   "outputs": [
    {
     "name": "stdout",
     "output_type": "stream",
     "text": [
      "Index(['user_id', 'Food', 'Shopping', 'Home Services', 'Beauty & Spas',\n",
      "       'Health & Medical', 'Bars', 'Local Services', 'Nightlife', 'Automotive',\n",
      "       'Event Planning & Services', 'Active Life', 'Fashion', 'Coffee & Tea',\n",
      "       'Professional Services', 'Arts & Entertainment', 'Hotels & Travel',\n",
      "       'Real Estate', 'Pet Services', 'Grocery', 'Education', 'Contractors',\n",
      "       'Financial Services', 'Flowers & Gifts', 'Clothing & accessories',\n",
      "       'Electronics', 'Community Service/Non-Profit',\n",
      "       'Public Services & Government', 'Laundry Services', 'Transportation',\n",
      "       'Lawyers', 'Electricians', 'Religious Organizations', 'Miscelleanous'],\n",
      "      dtype='object')\n"
     ]
    }
   ],
   "source": [
    "print(df.columns)"
   ]
  },
  {
   "cell_type": "code",
   "execution_count": null,
   "metadata": {},
   "outputs": [],
   "source": [
    "#df.rename(columns={\"A\": \"a\", \"B\": \"c\"})\n",
    "\n",
    "from cassandra.cluster import Cluster\n",
    "import pandas as pd\n",
    "\n",
    "if __name__ == \"__main__\":\n",
    "    cluster = Cluster(['127.0.0.1'], port = 9042)\n",
    "    session = cluster.connect('yelp_weather_data',wait_for_all_pools=True) #json - name of keyspace\n",
    "    session.execute('USE yelp_weather_data')\n",
    "\n",
    "    query = \"INSERT INTO user_category(user_id,food,shopping,home_services,beauty_and_spas,health_and_medical,bars,local_services,nightlife,automotive,professional_services,arts_and_entertainment,hotels_and_travel,financial_services,flowers_and_gifts,clothing_and_accessories,electronics,community_service_non_profit,public_services_and_government,laundry_services,transportation,lawyers,electricians,religious_organizations,miscellaneous)\" \n",
    "    values = \" VALUES(?,?,?,?,?,?,?,?,?,?,?,?,?,?,?,?,?,?,?,?,?,?,?,?,?)\"\n",
    "    query = query + values\n",
    "    prepared = session.prepare(query)\n",
    "\n",
    "    for index, item in df.iterrows():\n",
    "        print(index)\n",
    "       # print( str(item['user_id'])+ str(item['max_corr_category']) + str(item['max_corr_user']))\n",
    "        session.execute(prepared, ( str(item['user_id']), int(item['Food']),int(item['Shopping']),int(item['Home Services']),int(item['Beauty & Spas']),int(item['Health & Medical']),int(item['Bars']),int(item['Local Services']),int(item['Nightlife']),int(item['Automotive']),int(item['Professional Services']),\tint(item['Arts & Entertainment']),int(item['Hotels & Travel']),\tint(item['Financial Services']),\tint(item['Flowers & Gifts']),\tint(item['Clothing & accessories']),\tint(item['Electronics']),\tint(item['Community Service/Non-Profit']),\tint(item['Public Services & Government']),\tint(item['Laundry Services']),\tint(item['Transportation']),\tint(item['Lawyers']),\tint(item['Electricians']),\tint(item['Religious Organizations']),\tint(item['Miscelleanous'])\n",
    "                                  ))\n",
    "    "
   ]
  },
  {
   "cell_type": "code",
   "execution_count": 13,
   "metadata": {},
   "outputs": [
    {
     "name": "stdout",
     "output_type": "stream",
     "text": [
      "                  user_id  arts_and_entertainment  automotive  bars  \\\n",
      "0  TTRVdTXKcq-xn6-1IWbwEw                       0           0     5   \n",
      "1  th7tfMsh74S6sa_BWOt8YA                       3           5     3   \n",
      "2  yKYpt0bcSVD5W4FoPCY5iQ                       0           0     0   \n",
      "3  zH6racrZ7rUqqv_Qy6dZDQ                       3           3     3   \n",
      "4  jAVtSgE5L-Dt6_I5FIiVGA                       0           5     4   \n",
      "\n",
      "   beauty_and_spas  clothing_and_accessories  community_service_non_profit  \\\n",
      "0                0                         0                             0   \n",
      "1                4                         5                             4   \n",
      "2                5                         0                             0   \n",
      "3                4                         2                             4   \n",
      "4                0                         0                             0   \n",
      "\n",
      "   electricians  electronics  financial_services  ...  laundry_services  \\\n",
      "0             0            0                   0  ...                 0   \n",
      "1             0            5                   0  ...                 0   \n",
      "2             0            0                   0  ...                 0   \n",
      "3             0            3                   0  ...                 0   \n",
      "4             0            0                   0  ...                 0   \n",
      "\n",
      "   lawyers  local_services  miscellaneous  nightlife  professional_services  \\\n",
      "0        0               0              0          0                      0   \n",
      "1        0               4              3          3                      4   \n",
      "2        0               0              0          0                      0   \n",
      "3        0               4              3          3                      3   \n",
      "4        0               0              5          4                      0   \n",
      "\n",
      "   public_services_and_government  religious_organizations  shopping  \\\n",
      "0                               0                        0         0   \n",
      "1                               0                        0         4   \n",
      "2                               0                        0         5   \n",
      "3                               3                        4         3   \n",
      "4                               0                        0         5   \n",
      "\n",
      "   transportation  \n",
      "0               0  \n",
      "1               5  \n",
      "2               0  \n",
      "3               0  \n",
      "4               5  \n",
      "\n",
      "[5 rows x 25 columns]\n"
     ]
    }
   ],
   "source": [
    "#retrieve data from Cassandra DB:\n",
    "from cassandra.cluster import Cluster\n",
    "import pandas as pd\n",
    "\n",
    "if __name__ == \"__main__\":\n",
    "    cluster = Cluster(['127.0.0.1'], port = 9042)\n",
    "    keyspace = 'yelp_weather_data'\n",
    "    session = cluster.connect(keyspace, wait_for_all_pools=True) #json - name of keyspace\n",
    "    query = \"SELECT * from user_category\"\n",
    "    df = pd.DataFrame(list(session.execute(query)))\n",
    "\n",
    "    print(df.head())\n",
    "    "
   ]
  },
  {
   "cell_type": "code",
   "execution_count": null,
   "metadata": {},
   "outputs": [],
   "source": []
  }
 ],
 "metadata": {
  "kernelspec": {
   "display_name": "Python 3",
   "language": "python",
   "name": "python3"
  },
  "language_info": {
   "codemirror_mode": {
    "name": "ipython",
    "version": 3
   },
   "file_extension": ".py",
   "mimetype": "text/x-python",
   "name": "python",
   "nbconvert_exporter": "python",
   "pygments_lexer": "ipython3",
   "version": "3.7.3"
  }
 },
 "nbformat": 4,
 "nbformat_minor": 4
}
